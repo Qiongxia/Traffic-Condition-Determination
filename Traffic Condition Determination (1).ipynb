{
 "cells": [
  {
   "cell_type": "code",
   "execution_count": 1,
   "id": "2b61c075",
   "metadata": {},
   "outputs": [],
   "source": [
    "import cv2\n",
    "\n",
    "# Load pre-trained car detection classifier (Haar Cascade)\n",
    "car_cascade = cv2.CascadeClassifier(r\"C:\\Users\\quqio\\anaconda3\\Lib\\site-packages\\cv2\\data\\cars.xml\")\n",
    "\n",
    "# Open the video file\n",
    "video_path = r\"C:\\Users\\quqio\\OneDrive\\Desktop\\test.mp4.mp4\"\n",
    "cap = cv2.VideoCapture(video_path)"
   ]
  },
  {
   "cell_type": "code",
   "execution_count": 2,
   "id": "e0386283",
   "metadata": {},
   "outputs": [
    {
     "name": "stdout",
     "output_type": "stream",
     "text": [
      "Vedio duration：11.18 seconds\n"
     ]
    }
   ],
   "source": [
    "fps = cap.get(cv2.CAP_PROP_FPS)\n",
    "frame_count = int(cap.get(cv2.CAP_PROP_FRAME_COUNT))\n",
    "\n",
    "# Calculate video duration(seconds)\n",
    "duration = frame_count / fps\n",
    "\n",
    "print(f\"Vedio duration：{duration:.2f} seconds\")"
   ]
  },
  {
   "cell_type": "code",
   "execution_count": 3,
   "id": "e919b411",
   "metadata": {},
   "outputs": [
    {
     "name": "stdout",
     "output_type": "stream",
     "text": [
      "amount of the cars：10\n"
     ]
    }
   ],
   "source": [
    "car_count = 0\n",
    "previous_detections = []\n",
    "\n",
    "while True:\n",
    "    ret, frame = cap.read()\n",
    "    if not ret:\n",
    "        break\n",
    "\n",
    "    # Convert the frame to grayscale\n",
    "    gray = cv2.cvtColor(frame, cv2.COLOR_BGR2GRAY)\n",
    "\n",
    "    # Detect cars in the frame\n",
    "    cars = car_cascade.detectMultiScale(gray, scaleFactor=1.1, minNeighbors=5)\n",
    "\n",
    "    # List to store IDs of newly detected cars\n",
    "    new_cars = []\n",
    "\n",
    "    # Loop through each detected car\n",
    "    for (x, y, w, h) in cars:\n",
    "        # Check if the car is a new detection\n",
    "        is_new_detection = True\n",
    "        for (prev_x, prev_y, prev_w, prev_h) in previous_detections:\n",
    "            if (x >= prev_x and x <= prev_x + prev_w) or (prev_x >= x and prev_x <= x + w):\n",
    "                is_new_detection = False\n",
    "                break\n",
    "\n",
    "        # If it's a new detection, increment car count and store the detection\n",
    "        if is_new_detection:\n",
    "            new_cars.append((x, y, w, h))\n",
    "            car_count += 1\n",
    "            previous_detections.append((x, y, w, h))\n",
    "\n",
    "    # Draw bounding boxes around newly detected cars\n",
    "    for (x, y, w, h) in new_cars:\n",
    "        cv2.rectangle(frame, (x, y), (x + w, y + h), (255, 0, 0), 2)\n",
    "\n",
    "    # Display the resulting frame with bounding boxes and car count\n",
    "    cv2.putText(frame, f'Car Count: {car_count}', (20, 50), cv2.FONT_HERSHEY_SIMPLEX, 1, (0, 0, 255), 2, cv2.LINE_AA)\n",
    "    cv2.imshow('Car Detection', frame)\n",
    "\n",
    "    if cv2.waitKey(1) & 0xFF == ord('q'):\n",
    "        break\n",
    "\n",
    "cap.release()\n",
    "cv2.destroyAllWindows()\n",
    "print(f\"amount of the cars：{car_count}\")"
   ]
  },
  {
   "cell_type": "code",
   "execution_count": 4,
   "id": "f5d8e09c",
   "metadata": {},
   "outputs": [
    {
     "name": "stdout",
     "output_type": "stream",
     "text": [
      "Traffic density: 0.894627760299402 cars per seconds\n",
      "Normal Traffic\n"
     ]
    }
   ],
   "source": [
    "class Traffic:\n",
    "    def __init__(self, cars, time):\n",
    "        self.cars = cars\n",
    "        self.time = time\n",
    "\n",
    "class Analyze_traffic(Traffic):\n",
    "    def __init__(self, cars, time):\n",
    "        super().__init__(cars, time)\n",
    "        self.result = self.calculate_traffic_density()\n",
    "\n",
    "    def calculate_traffic_density(self):\n",
    "        if self.time > 0:\n",
    "            return self.cars / self.time\n",
    "        else:\n",
    "            return 0  # Avoid division by zero error if time is zero\n",
    "\n",
    "    def is_rush_hour(self):\n",
    "        if self.result > 1:  \n",
    "            print(\"Rush hour!\")\n",
    "        else:\n",
    "            print(\"Normal Traffic\")\n",
    "\n",
    "\n",
    "if __name__ == '__main__':\n",
    "    # Create Analyze_traffic object with cars and time values\n",
    "    cars_count = float(car_count)\n",
    "    time_interval = float(duration)\n",
    "\n",
    "    analyzer = Analyze_traffic(cars_count, time_interval)\n",
    "\n",
    "    # Calculate traffic density and check if it's rush hour\n",
    "    print(f\"Traffic density: {analyzer.result} cars per seconds\")\n",
    "    analyzer.is_rush_hour()"
   ]
  },
  {
   "cell_type": "code",
   "execution_count": null,
   "id": "ce5b0fcc",
   "metadata": {},
   "outputs": [],
   "source": []
  }
 ],
 "metadata": {
  "kernelspec": {
   "display_name": "Python 3 (ipykernel)",
   "language": "python",
   "name": "python3"
  },
  "language_info": {
   "codemirror_mode": {
    "name": "ipython",
    "version": 3
   },
   "file_extension": ".py",
   "mimetype": "text/x-python",
   "name": "python",
   "nbconvert_exporter": "python",
   "pygments_lexer": "ipython3",
   "version": "3.9.12"
  }
 },
 "nbformat": 4,
 "nbformat_minor": 5
}
